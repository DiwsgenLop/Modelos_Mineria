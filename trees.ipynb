{
 "cells": [
  {
   "cell_type": "code",
   "execution_count": 1,
   "metadata": {},
   "outputs": [],
   "source": [
    "#Librerias para modelo de arboles de decision\n",
    "import numpy as np\n",
    "import pandas as pd\n",
    "from sklearn.tree import DecisionTreeClassifier\n",
    "from sklearn.model_selection import train_test_split\n",
    "from sklearn import metrics\n",
    "from sklearn import tree\n",
    "from sklearn.metrics import classification_report, confusion_matrix"
   ]
  },
  {
   "cell_type": "code",
   "execution_count": 2,
   "metadata": {},
   "outputs": [],
   "source": [
    "#Cargo el dataset\n",
    "data = pd.read_csv('evaluacion_riesgo_financiero.csv')"
   ]
  },
  {
   "cell_type": "code",
   "execution_count": 3,
   "metadata": {},
   "outputs": [
    {
     "name": "stdout",
     "output_type": "stream",
     "text": [
      "  Ingresos HistorialCredito TiempoEmpleo    Edad Riesgo\n",
      "0     Alto            Bueno        Largo   Joven   Bajo\n",
      "1    Medio          Regular        Medio  Adulto   Alto\n",
      "2     Bajo             Malo        Corto   Mayor   Alto\n",
      "3     Alto          Regular        Medio  Adulto   Bajo\n",
      "4     Bajo            Bueno        Corto   Joven   Bajo\n"
     ]
    }
   ],
   "source": [
    "#Visualizamos los primeros 5 registros\n",
    "print(data.head())"
   ]
  },
  {
   "cell_type": "code",
   "execution_count": 7,
   "metadata": {},
   "outputs": [
    {
     "name": "stdout",
     "output_type": "stream",
     "text": [
      "   Ingresos  HistorialCredito  TiempoEmpleo  Edad Riesgo\n",
      "0       1.0               1.0           1.0    20   Bajo\n",
      "1       0.5               0.5           0.5    30   Alto\n",
      "2       0.0               0.0           0.0    50   Alto\n",
      "3       1.0               0.5           0.5    30   Bajo\n",
      "4       0.0               1.0           0.0    20   Bajo\n"
     ]
    }
   ],
   "source": [
    "#Convertimos la columa Ingresos a numerica si es ALTO=1, MEDIO=0.5, BAJO=0\n",
    "data['Ingresos'] = data['Ingresos'].map({'Alto': 1, 'Medio': 0.5, 'Bajo': 0})\n",
    "#Tambien convertimos la columna HistorialCredito a numerica si es Bueno=1, Regular=0.5 , Malo=0\n",
    "data['HistorialCredito'] = data['HistorialCredito'].map({'Bueno': 1, 'Regular': 0.5, 'Malo': 0})\n",
    "#La columna TiempoEmpleo la convertimos a numerica si es Largo=1, Medio=0.5, Corto=0\n",
    "data['TiempoEmpleo'] = data['TiempoEmpleo'].map({'Largo': 1, 'Medio': 0.5, 'Corto': 0})\n",
    "#La columna Edad la convertimos a numerica si es Joven=20, Adulto=30, Mayor=50 \n",
    "data['Edad'] = data['Edad'].map({'Joven': 20, 'Adulto': 30, 'Mayor': 50})\n",
    "#Todos los datos son convertidos a numericos por lo tanto verificamos \n",
    "print(data.head())"
   ]
  },
  {
   "cell_type": "code",
   "execution_count": 8,
   "metadata": {},
   "outputs": [],
   "source": [
    "#Divido el dataset en variables dependientes e independientes\n",
    "X = data.drop('Riesgo', axis=1)\n",
    "y = data['Riesgo']\n",
    "#Divido el dataset en entrenamiento y prueba\n",
    "X_train, X_test, y_train, y_test = train_test_split(X, y, test_size=0.2, random_state=1)"
   ]
  },
  {
   "cell_type": "code",
   "execution_count": 9,
   "metadata": {},
   "outputs": [],
   "source": [
    "#Creo el modelo de arbol de decision\n",
    "clf = DecisionTreeClassifier()\n",
    "#Entreno el modelo\n",
    "clf = clf.fit(X_train, y_train)"
   ]
  },
  {
   "cell_type": "code",
   "execution_count": 11,
   "metadata": {},
   "outputs": [
    {
     "name": "stdout",
     "output_type": "stream",
     "text": [
      "Accuracy: 0.16666666666666666\n"
     ]
    }
   ],
   "source": [
    "#Realizo la prediccion\n",
    "y_pred = clf.predict(X_test)\n",
    "#Verifico la precision del modelo\n",
    "print(\"Accuracy:\", metrics.accuracy_score(y_test, y_pred))"
   ]
  }
 ],
 "metadata": {
  "kernelspec": {
   "display_name": "env",
   "language": "python",
   "name": "python3"
  },
  "language_info": {
   "codemirror_mode": {
    "name": "ipython",
    "version": 3
   },
   "file_extension": ".py",
   "mimetype": "text/x-python",
   "name": "python",
   "nbconvert_exporter": "python",
   "pygments_lexer": "ipython3",
   "version": "3.12.1"
  }
 },
 "nbformat": 4,
 "nbformat_minor": 2
}
