{
 "cells": [
  {
   "cell_type": "code",
   "execution_count": 1,
   "metadata": {},
   "outputs": [],
   "source": [
    "#Importacion de librerias\n",
    "import pandas as pd\n",
    "from mlxtend.frequent_patterns import apriori, association_rules"
   ]
  },
  {
   "cell_type": "code",
   "execution_count": 2,
   "metadata": {},
   "outputs": [],
   "source": [
    "#Cargamos el dataset\n",
    "df = pd.read_csv('supermarket_transactions.csv')"
   ]
  },
  {
   "cell_type": "code",
   "execution_count": 3,
   "metadata": {},
   "outputs": [
    {
     "name": "stdout",
     "output_type": "stream",
     "text": [
      "Data set cargado:\n",
      "    Bread  Milk  Cheese  Butter  Jam  Eggs  Fruits\n",
      "0      1     1       1       1    0     1       1\n",
      "1      1     0       1       0    1     1       0\n",
      "2      0     1       1       0    0     0       1\n",
      "3      1     1       0       1    1     1       0\n",
      "4      0     0       1       1    0     1       0\n",
      "5      1     1       1       1    0     1       1\n",
      "6      1     1       1       1    1     1       0\n",
      "7      1     1       0       0    1     0       1\n",
      "8      0     1       1       0    0     0       1\n",
      "9      1     0       0       1    1     1       1\n"
     ]
    }
   ],
   "source": [
    "#Mostramos el dataset cargado\n",
    "print(\"Data set cargado:\\n\",df)"
   ]
  },
  {
   "cell_type": "code",
   "execution_count": 8,
   "metadata": {},
   "outputs": [
    {
     "name": "stderr",
     "output_type": "stream",
     "text": [
      "d:\\Principal\\Respaldo Diws 2020\\Buap\\Octavo Semestre\\Mineria\\practica 8\\env\\Lib\\site-packages\\mlxtend\\frequent_patterns\\fpcommon.py:161: DeprecationWarning: DataFrames with non-bool types result in worse computationalperformance and their support might be discontinued in the future.Please use a DataFrame with bool type\n",
      "  warnings.warn(\n"
     ]
    }
   ],
   "source": [
    "#Aplicamos el Algoritmo Apriori para encontrar iterms frecuentes\n",
    "frequent_itemsets = apriori(df, min_support=0.3, use_colnames=True)"
   ]
  },
  {
   "cell_type": "code",
   "execution_count": 9,
   "metadata": {},
   "outputs": [
    {
     "name": "stdout",
     "output_type": "stream",
     "text": [
      "\n",
      "Items frecuentes:\n",
      "     support                             itemsets\n",
      "0       0.7                              (Bread)\n",
      "1       0.7                               (Milk)\n",
      "2       0.7                             (Cheese)\n",
      "3       0.6                             (Butter)\n",
      "4       0.5                                (Jam)\n",
      "5       0.7                               (Eggs)\n",
      "6       0.6                             (Fruits)\n",
      "7       0.5                        (Bread, Milk)\n",
      "8       0.4                      (Bread, Cheese)\n",
      "9       0.5                      (Butter, Bread)\n",
      "10      0.5                         (Jam, Bread)\n",
      "11      0.6                        (Eggs, Bread)\n",
      "12      0.4                      (Fruits, Bread)\n",
      "13      0.5                       (Milk, Cheese)\n",
      "14      0.4                       (Butter, Milk)\n",
      "15      0.3                          (Jam, Milk)\n",
      "16      0.4                         (Eggs, Milk)\n",
      "17      0.5                       (Fruits, Milk)\n",
      "18      0.4                     (Butter, Cheese)\n",
      "19      0.5                       (Eggs, Cheese)\n",
      "20      0.4                     (Fruits, Cheese)\n",
      "21      0.3                        (Jam, Butter)\n",
      "22      0.6                       (Butter, Eggs)\n",
      "23      0.3                     (Butter, Fruits)\n",
      "24      0.4                          (Jam, Eggs)\n",
      "25      0.3                       (Eggs, Fruits)\n",
      "26      0.3                (Bread, Milk, Cheese)\n",
      "27      0.4                (Butter, Bread, Milk)\n",
      "28      0.3                   (Jam, Bread, Milk)\n",
      "29      0.4                  (Eggs, Bread, Milk)\n",
      "30      0.3                (Fruits, Bread, Milk)\n",
      "31      0.3              (Butter, Bread, Cheese)\n",
      "32      0.4                (Eggs, Bread, Cheese)\n",
      "33      0.3                 (Jam, Butter, Bread)\n",
      "34      0.5                (Butter, Eggs, Bread)\n",
      "35      0.3              (Butter, Fruits, Bread)\n",
      "36      0.4                   (Jam, Eggs, Bread)\n",
      "37      0.3                (Eggs, Fruits, Bread)\n",
      "38      0.3               (Butter, Milk, Cheese)\n",
      "39      0.3                 (Eggs, Milk, Cheese)\n",
      "40      0.4               (Fruits, Milk, Cheese)\n",
      "41      0.4                 (Butter, Eggs, Milk)\n",
      "42      0.4               (Butter, Eggs, Cheese)\n",
      "43      0.3                  (Jam, Butter, Eggs)\n",
      "44      0.3               (Fruits, Butter, Eggs)\n",
      "45      0.3        (Butter, Bread, Milk, Cheese)\n",
      "46      0.3          (Eggs, Bread, Milk, Cheese)\n",
      "47      0.4          (Butter, Eggs, Bread, Milk)\n",
      "48      0.3        (Butter, Eggs, Bread, Cheese)\n",
      "49      0.3           (Jam, Butter, Eggs, Bread)\n",
      "50      0.3        (Fruits, Butter, Eggs, Bread)\n",
      "51      0.3         (Butter, Eggs, Milk, Cheese)\n",
      "52      0.3  (Bread, Milk, Cheese, Butter, Eggs)\n"
     ]
    }
   ],
   "source": [
    "#Mostramos los items frecuentes\n",
    "print(\"\\nItems frecuentes:\\n\",frequent_itemsets)"
   ]
  },
  {
   "cell_type": "code",
   "execution_count": 10,
   "metadata": {},
   "outputs": [
    {
     "ename": "TypeError",
     "evalue": "association_rules() missing 1 required positional argument: 'num_itemsets'",
     "output_type": "error",
     "traceback": [
      "\u001b[1;31m---------------------------------------------------------------------------\u001b[0m",
      "\u001b[1;31mTypeError\u001b[0m                                 Traceback (most recent call last)",
      "Cell \u001b[1;32mIn[10], line 2\u001b[0m\n\u001b[0;32m      1\u001b[0m \u001b[38;5;66;03m#Generamos las reglas de asociacion a partir de los conjuntos frecuentes\u001b[39;00m\n\u001b[1;32m----> 2\u001b[0m rules \u001b[38;5;241m=\u001b[39m \u001b[43massociation_rules\u001b[49m\u001b[43m(\u001b[49m\u001b[43mfrequent_itemsets\u001b[49m\u001b[43m,\u001b[49m\u001b[43m \u001b[49m\u001b[43mmetric\u001b[49m\u001b[38;5;241;43m=\u001b[39;49m\u001b[38;5;124;43m\"\u001b[39;49m\u001b[38;5;124;43mconfidence\u001b[39;49m\u001b[38;5;124;43m\"\u001b[39;49m\u001b[43m,\u001b[49m\u001b[43m \u001b[49m\u001b[43mmin_threshold\u001b[49m\u001b[38;5;241;43m=\u001b[39;49m\u001b[38;5;241;43m0.6\u001b[39;49m\u001b[43m)\u001b[49m\n",
      "\u001b[1;31mTypeError\u001b[0m: association_rules() missing 1 required positional argument: 'num_itemsets'"
     ]
    }
   ],
   "source": [
    "#Generamos las reglas de asociacion a partir de los conjuntos frecuentes\n",
    "rules = association_rules(frequent_itemsets, metric=\"confidence\", min_threshold=0.6)"
   ]
  },
  {
   "cell_type": "code",
   "execution_count": null,
   "metadata": {},
   "outputs": [],
   "source": [
    "#Mostramos las reglas generadas\n",
    "print(\"\\nReglas de asociacion:\\n\",rules)"
   ]
  },
  {
   "cell_type": "code",
   "execution_count": null,
   "metadata": {},
   "outputs": [],
   "source": [
    "#Guardamos los resultados en archivos CSV\n",
    "frequent_itemsets.to_csv('frequent_itemsets.csv', index=False)\n",
    "rules.to_csv('association_rules.csv', index=False"
   ]
  }
 ],
 "metadata": {
  "kernelspec": {
   "display_name": "env",
   "language": "python",
   "name": "python3"
  },
  "language_info": {
   "codemirror_mode": {
    "name": "ipython",
    "version": 3
   },
   "file_extension": ".py",
   "mimetype": "text/x-python",
   "name": "python",
   "nbconvert_exporter": "python",
   "pygments_lexer": "ipython3",
   "version": "3.12.1"
  }
 },
 "nbformat": 4,
 "nbformat_minor": 2
}
